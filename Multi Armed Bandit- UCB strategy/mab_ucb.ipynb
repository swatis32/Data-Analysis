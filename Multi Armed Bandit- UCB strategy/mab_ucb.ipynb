{
 "cells": [
  {
   "cell_type": "code",
   "execution_count": 1,
   "metadata": {},
   "outputs": [],
   "source": [
    "# https://towardsdatascience.com/multi-armed-bandits-ucb-algorithm-fa7861417d8c\n",
    "\n",
    "import numpy as np \n",
    "import matplotlib.pyplot as plt \n",
    "import pandas as pd"
   ]
  },
  {
   "cell_type": "markdown",
   "metadata": {},
   "source": [
    "## Multi Armed Bandit : UCB strategy\n",
    "\n",
    "### Takeaways:\n",
    "\n",
    "1. There are 1000 independant episodes and each episode has 1000 iters\n",
    "2. For each episode, mu is held the same for all iteraltions and is initialized for each bandit at the beginning of the episode. In this example sigma is 1 for all bandits\n",
    "3. n at the end of the episode is 1001 instead of iter=1000 because it is initialized as n=1 and not n=0\n",
    "4. sum(k_n) is iter+k instead of iter as k_n is initialized as np.ones(k) and not np.zeros(k) for practical reasons so NaN issues don't arise\n"
   ]
  },
  {
   "cell_type": "code",
   "execution_count": 2,
   "metadata": {},
   "outputs": [],
   "source": [
    "class ucb_bandit:\n",
    "    '''\n",
    "    Upper Confidence Bound Bandit\n",
    "    \n",
    "    Inputs \n",
    "    ============================================\n",
    "    k: number of arms (int)\n",
    "    c:\n",
    "    iters: number of steps (int)\n",
    "    mu: set the average rewards for each of the k-arms.\n",
    "        Set to \"random\" for the rewards to be selected from\n",
    "        a normal distribution with mean = 0. \n",
    "        Set to \"sequence\" for the means to be ordered from \n",
    "        0 to k-1.\n",
    "        Pass a list or array of length = k for user-defined\n",
    "        values.\n",
    "    '''\n",
    "    def __init__(self, k, c, iters, mu='random'):\n",
    "        # Number of arms\n",
    "        self.k = k\n",
    "        \n",
    "        # Exploration parameter\n",
    "        self.c = c\n",
    "        \n",
    "        # Number of iterations\n",
    "        self.iters = iters\n",
    "        \n",
    "        # Step count total\n",
    "        self.n = 1 # Good!! This causes final n to be iter+1 \n",
    "        \n",
    "        # Step count for each arm\n",
    "        self.k_n = np.ones(k) # Good!! This causes final n to be iter+k\n",
    "        \n",
    "        # Total mean reward\n",
    "        self.mean_reward = 0\n",
    "        \n",
    "        self.reward = np.zeros(iters)\n",
    "        \n",
    "        # Mean reward for each arm\n",
    "        self.k_reward = np.zeros(k)\n",
    "        \n",
    "        if type(mu) == list or type(mu).__module__ == np.__name__:\n",
    "            # User-defined averages            \n",
    "            self.mu = np.array(mu)\n",
    "        elif mu == 'random':                   \n",
    "            # Draw means from probability distribution\n",
    "            self.mu = np.random.normal(0, 1, k) # means are constant for one episode\n",
    "        elif mu == 'sequence':\n",
    "            # Increase the mean for each arm by one\n",
    "            self.mu = np.linspace(0, k-1, k)\n",
    "        \n",
    "    def pull(self):\n",
    "        # Select action according to UCB Criteria\n",
    "        a = np.argmax(self.k_reward + self.c * np.sqrt(\n",
    "                (np.log(self.n)) / self.k_n))\n",
    "            \n",
    "        reward = np.random.normal(self.mu[a], 1) # the mean is same as initialized and are constant for one episode, \n",
    "                                                    #stdev =1 is fixed can be altered\n",
    "        \n",
    "        # Update counts\n",
    "        self.n += 1\n",
    "        self.k_n[a] += 1\n",
    "        \n",
    "        # Update total\n",
    "        self.mean_reward = self.mean_reward + (\n",
    "            reward - self.mean_reward) / self.n\n",
    "        \n",
    "        # Update results for k\n",
    "        self.k_reward[a] = self.k_reward[a] + (\n",
    "            reward - self.k_reward[a]) / self.k_n[a]\n",
    "        \n",
    "    def run(self):\n",
    "        for i in range(self.iters):\n",
    "            self.pull()\n",
    "            self.reward[i] = self.mean_reward\n",
    "            \n",
    "    def reset(self, mu=None):\n",
    "        # Resets results while keeping settings\n",
    "        self.n = 1\n",
    "        self.k_n = np.ones(self.k)\n",
    "        self.mean_reward = 0\n",
    "        self.reward = np.zeros(iters)\n",
    "        self.k_reward = np.zeros(self.k)\n",
    "        if mu == 'random':\n",
    "            self.mu = np.random.normal(0, 1, self.k) # means are constant for one episode"
   ]
  },
  {
   "cell_type": "code",
   "execution_count": 3,
   "metadata": {},
   "outputs": [
    {
     "data": {
      "text/plain": [
       "array([0., 0., 0., 0., 0.])"
      ]
     },
     "execution_count": 3,
     "metadata": {},
     "output_type": "execute_result"
    }
   ],
   "source": [
    "np.zeros(5)"
   ]
  },
  {
   "cell_type": "code",
   "execution_count": 3,
   "metadata": {},
   "outputs": [],
   "source": [
    "k = 5 # number of arms\n",
    "\n",
    "iters = 1000\n",
    "ucb_rewards = np.zeros(iters)\n",
    "\n",
    "# Initialize bandits\n",
    "ucb = ucb_bandit(k, 2, iters) # c=2 \n",
    "episodes = 1000\n",
    "\n",
    "# Run experiments\n",
    "for i in range(episodes): \n",
    "    ucb.reset('random')\n",
    "    # Run experiments\n",
    "    ucb.run()\n",
    "    \n",
    "    # Update long-term averages for each iteration ucb.reward has same size as ucb_rewards = np.zeros(iters)\n",
    "    ucb_rewards = ucb_rewards + (\n",
    "        ucb.reward - ucb_rewards) / (i + 1)\n",
    "    \n"
   ]
  },
  {
   "cell_type": "code",
   "execution_count": 4,
   "metadata": {},
   "outputs": [
    {
     "data": {
      "text/plain": [
       "Text(0.5, 1.0, 'Average UCB Rewards after 1000 Episodes')"
      ]
     },
     "execution_count": 4,
     "metadata": {},
     "output_type": "execute_result"
    },
    {
     "data": {
      "image/png": "[encoded data removed]",
      "text/plain": [
       "<Figure size 432x288 with 1 Axes>"
      ]
     },
     "metadata": {
      "needs_background": "light"
     },
     "output_type": "display_data"
    }
   ],
   "source": [
    "plt.plot(ucb_rewards)\n",
    "plt.xlabel(\"Iterations\")\n",
    "plt.ylabel(\"Average Reward\")\n",
    "plt.title(\"Average UCB Rewards after \" + str(episodes) + \" Episodes\")"
   ]
  },
  {
   "cell_type": "code",
   "execution_count": 5,
   "metadata": {},
   "outputs": [
    {
     "data": {
      "text/plain": [
       "Text(0.5, 1.0, 'Action Number Selected by UCB')"
      ]
     },
     "execution_count": 5,
     "metadata": {},
     "output_type": "execute_result"
    },
    {
     "data": {
      "image/png": "[encoded data removed]",
      "text/plain": [
       "<Figure size 432x288 with 1 Axes>"
      ]
     },
     "metadata": {
      "needs_background": "light"
     },
     "output_type": "display_data"
    }
   ],
   "source": [
    "width = 0.45\n",
    "bins = np.linspace(0, k-1, k) \n",
    "\n",
    "plt.bar(bins,ucb.k_n, width=width, label=\"UCB\")\n",
    "plt.title(\"Action Number Selected by UCB\")\n",
    "\n",
    "# This is result for only one episode"
   ]
  },
  {
   "cell_type": "code",
   "execution_count": 7,
   "metadata": {},
   "outputs": [
    {
     "name": "stdout",
     "output_type": "stream",
     "text": [
      "Percentage of actions selected:\n"
     ]
    },
    {
     "data": {
      "text/html": [
       "<div>\n",
       "<style scoped>\n",
       "    .dataframe tbody tr th:only-of-type {\n",
       "        vertical-align: middle;\n",
       "    }\n",
       "\n",
       "    .dataframe tbody tr th {\n",
       "        vertical-align: top;\n",
       "    }\n",
       "\n",
       "    .dataframe thead th {\n",
       "        text-align: right;\n",
       "    }\n",
       "</style>\n",
       "<table border=\"1\" class=\"dataframe\">\n",
       "  <thead>\n",
       "    <tr style=\"text-align: right;\">\n",
       "      <th></th>\n",
       "      <th>a = 0</th>\n",
       "      <th>a = 1</th>\n",
       "      <th>a = 2</th>\n",
       "      <th>a = 3</th>\n",
       "      <th>a = 4</th>\n",
       "    </tr>\n",
       "  </thead>\n",
       "  <tbody>\n",
       "    <tr>\n",
       "      <th>UCB</th>\n",
       "      <td>0.50</td>\n",
       "      <td>88.90</td>\n",
       "      <td>0.50</td>\n",
       "      <td>0.70</td>\n",
       "      <td>9.9</td>\n",
       "    </tr>\n",
       "    <tr>\n",
       "      <th>Expected Reward</th>\n",
       "      <td>-1.75</td>\n",
       "      <td>0.79</td>\n",
       "      <td>-1.87</td>\n",
       "      <td>-1.06</td>\n",
       "      <td>0.7</td>\n",
       "    </tr>\n",
       "  </tbody>\n",
       "</table>\n",
       "</div>"
      ],
      "text/plain": [
       "                 a = 0  a = 1  a = 2  a = 3  a = 4\n",
       "UCB               0.50  88.90   0.50   0.70    9.9\n",
       "Expected Reward  -1.75   0.79  -1.87  -1.06    0.7"
      ]
     },
     "execution_count": 7,
     "metadata": {},
     "output_type": "execute_result"
    }
   ],
   "source": [
    "opt_per = np.array([ucb.k_n]) / iters * 100\n",
    "df = pd.DataFrame(np.vstack(\n",
    "    [opt_per.round(2), \n",
    "    ucb.mu.round(2)]), \n",
    "        index=[\"UCB\", \"Expected Reward\"],\n",
    "        columns=[\"a = \" + str(x) for x in range(0, k)])\n",
    "print(\"Percentage of actions selected:\")\n",
    "df\n",
    "\n",
    "# This is result for only one episode"
   ]
  }
 ],
 "metadata": {
  "kernelspec": {
   "display_name": "Python 3",
   "language": "python",
   "name": "python3"
  },
  "language_info": {
   "codemirror_mode": {
    "name": "ipython",
    "version": 3
   },
   "file_extension": ".py",
   "mimetype": "text/x-python",
   "name": "python",
   "nbconvert_exporter": "python",
   "pygments_lexer": "ipython3",
   "version": "3.8.3"
  }
 },
 "nbformat": 4,
 "nbformat_minor": 4
}
