{
 "cells": [
  {
   "cell_type": "code",
   "execution_count": 1,
   "metadata": {},
   "outputs": [],
   "source": [
    "# https://www.kaggle.com/hmavrodiev/bike-sharing-prediction-rf-xgboost/data?select=london_merged.csv\n",
    "# Goal is predicting bike share demand in London\n",
    "import pandas as pd\n",
    "import numpy as np\n",
    "import matplotlib.pyplot as plt\n",
    "import seaborn as sns\n",
    "import os\n",
    "\n",
    "wd=\"C:/Users/Abhinav/Desktop/Data-Analysis/Bike sharing prediction/\"\n",
    "os.chdir(wd)"
   ]
  },
  {
   "cell_type": "code",
   "execution_count": 2,
   "metadata": {},
   "outputs": [],
   "source": [
    "from sklearn.model_selection import cross_validate\n",
    "\n",
    "\n",
    "def get_regression_cv_score(model, X, y, scoring, cv=7):\n",
    "    # used to compare classifiers\n",
    "    \n",
    "    scores = cross_validate(model, X, y, cv=cv, scoring=scoring, return_train_score=True)\n",
    "    # cross_validate can also be used to evaluate regression models\n",
    "    train_scores = scores['train_score']\n",
    "    val_scores = scores['test_score']\n",
    "    \n",
    "    train_mean = np.mean(train_scores)\n",
    "    val_mean = np.mean(val_scores)\n",
    "    \n",
    "    return train_mean, val_mean"
   ]
  },
  {
   "cell_type": "markdown",
   "metadata": {},
   "source": [
    "###  1. Loading bike share data in London"
   ]
  },
  {
   "cell_type": "code",
   "execution_count": 3,
   "metadata": {},
   "outputs": [
    {
     "data": {
      "text/html": [
       "<div>\n",
       "<style scoped>\n",
       "    .dataframe tbody tr th:only-of-type {\n",
       "        vertical-align: middle;\n",
       "    }\n",
       "\n",
       "    .dataframe tbody tr th {\n",
       "        vertical-align: top;\n",
       "    }\n",
       "\n",
       "    .dataframe thead th {\n",
       "        text-align: right;\n",
       "    }\n",
       "</style>\n",
       "<table border=\"1\" class=\"dataframe\">\n",
       "  <thead>\n",
       "    <tr style=\"text-align: right;\">\n",
       "      <th></th>\n",
       "      <th>timestamp</th>\n",
       "      <th>cnt</th>\n",
       "      <th>t1</th>\n",
       "      <th>t2</th>\n",
       "      <th>hum</th>\n",
       "      <th>wind_speed</th>\n",
       "      <th>weather_code</th>\n",
       "      <th>is_holiday</th>\n",
       "      <th>is_weekend</th>\n",
       "      <th>season</th>\n",
       "    </tr>\n",
       "  </thead>\n",
       "  <tbody>\n",
       "    <tr>\n",
       "      <th>0</th>\n",
       "      <td>2015-01-04 00:00:00</td>\n",
       "      <td>182</td>\n",
       "      <td>3.0</td>\n",
       "      <td>2.0</td>\n",
       "      <td>93.0</td>\n",
       "      <td>6.0</td>\n",
       "      <td>3.0</td>\n",
       "      <td>0.0</td>\n",
       "      <td>1.0</td>\n",
       "      <td>3.0</td>\n",
       "    </tr>\n",
       "    <tr>\n",
       "      <th>1</th>\n",
       "      <td>2015-01-04 01:00:00</td>\n",
       "      <td>138</td>\n",
       "      <td>3.0</td>\n",
       "      <td>2.5</td>\n",
       "      <td>93.0</td>\n",
       "      <td>5.0</td>\n",
       "      <td>1.0</td>\n",
       "      <td>0.0</td>\n",
       "      <td>1.0</td>\n",
       "      <td>3.0</td>\n",
       "    </tr>\n",
       "    <tr>\n",
       "      <th>2</th>\n",
       "      <td>2015-01-04 02:00:00</td>\n",
       "      <td>134</td>\n",
       "      <td>2.5</td>\n",
       "      <td>2.5</td>\n",
       "      <td>96.5</td>\n",
       "      <td>0.0</td>\n",
       "      <td>1.0</td>\n",
       "      <td>0.0</td>\n",
       "      <td>1.0</td>\n",
       "      <td>3.0</td>\n",
       "    </tr>\n",
       "    <tr>\n",
       "      <th>3</th>\n",
       "      <td>2015-01-04 03:00:00</td>\n",
       "      <td>72</td>\n",
       "      <td>2.0</td>\n",
       "      <td>2.0</td>\n",
       "      <td>100.0</td>\n",
       "      <td>0.0</td>\n",
       "      <td>1.0</td>\n",
       "      <td>0.0</td>\n",
       "      <td>1.0</td>\n",
       "      <td>3.0</td>\n",
       "    </tr>\n",
       "    <tr>\n",
       "      <th>4</th>\n",
       "      <td>2015-01-04 04:00:00</td>\n",
       "      <td>47</td>\n",
       "      <td>2.0</td>\n",
       "      <td>0.0</td>\n",
       "      <td>93.0</td>\n",
       "      <td>6.5</td>\n",
       "      <td>1.0</td>\n",
       "      <td>0.0</td>\n",
       "      <td>1.0</td>\n",
       "      <td>3.0</td>\n",
       "    </tr>\n",
       "  </tbody>\n",
       "</table>\n",
       "</div>"
      ],
      "text/plain": [
       "             timestamp  cnt   t1   t2    hum  wind_speed  weather_code  \\\n",
       "0  2015-01-04 00:00:00  182  3.0  2.0   93.0         6.0           3.0   \n",
       "1  2015-01-04 01:00:00  138  3.0  2.5   93.0         5.0           1.0   \n",
       "2  2015-01-04 02:00:00  134  2.5  2.5   96.5         0.0           1.0   \n",
       "3  2015-01-04 03:00:00   72  2.0  2.0  100.0         0.0           1.0   \n",
       "4  2015-01-04 04:00:00   47  2.0  0.0   93.0         6.5           1.0   \n",
       "\n",
       "   is_holiday  is_weekend  season  \n",
       "0         0.0         1.0     3.0  \n",
       "1         0.0         1.0     3.0  \n",
       "2         0.0         1.0     3.0  \n",
       "3         0.0         1.0     3.0  \n",
       "4         0.0         1.0     3.0  "
      ]
     },
     "execution_count": 3,
     "metadata": {},
     "output_type": "execute_result"
    }
   ],
   "source": [
    "london=pd.read_csv(\"london_merged.csv\")\n",
    "\n",
    "london.head()\n",
    "#london.shape"
   ]
  },
  {
   "cell_type": "code",
   "execution_count": 4,
   "metadata": {},
   "outputs": [
    {
     "data": {
      "text/plain": [
       "(17414, 10)"
      ]
     },
     "execution_count": 4,
     "metadata": {},
     "output_type": "execute_result"
    }
   ],
   "source": [
    "london.shape"
   ]
  },
  {
   "cell_type": "code",
   "execution_count": 5,
   "metadata": {},
   "outputs": [],
   "source": [
    "london['timestamp'] = pd.to_datetime(london['timestamp'], format =\"%Y-%m-%d %H:%M:%S\")"
   ]
  },
  {
   "cell_type": "code",
   "execution_count": 6,
   "metadata": {},
   "outputs": [
    {
     "data": {
      "text/plain": [
       "array([ 3.,  1.,  4.,  7.,  2., 26., 10.])"
      ]
     },
     "execution_count": 6,
     "metadata": {},
     "output_type": "execute_result"
    }
   ],
   "source": [
    "london['weather_code'].unique()\n",
    "#1 = Clear ; mostly clear but have some values with haze/fog/patches of fog/ fog in vicinity\n",
    "#2 = scattered clouds / few clouds\n",
    "#3 = Broken clouds\n",
    "#4 = Cloudly\n",
    "#7 = Rain/ light Rain shower/ Light rain\n",
    "#10 = rain with thunderstorm\n",
    "#26 = snowfall\n",
    "#94 = Freezing Fog\n"
   ]
  },
  {
   "cell_type": "code",
   "execution_count": 7,
   "metadata": {},
   "outputs": [
    {
     "data": {
      "text/plain": [
       "array([100., 200.])"
      ]
     },
     "execution_count": 7,
     "metadata": {},
     "output_type": "execute_result"
    }
   ],
   "source": [
    "weather_dict = {1 : 100,  2 : 100,  3 : 100,  4 : 100, \n",
    "                7 : 200, 10 : 200, 26 : 200, 94 : 200}\n",
    "london['weather_code']=london['weather_code'].replace(weather_dict)\n",
    "\n",
    "london['weather_code'].unique()\n"
   ]
  },
  {
   "cell_type": "code",
   "execution_count": 8,
   "metadata": {},
   "outputs": [],
   "source": [
    "london['count_log'] = np.log1p(london['cnt'])\n",
    "\n",
    "# The data contains zero values, so \"log1p\" adds 1 to the data and then calculates the natural logarithm function."
   ]
  },
  {
   "cell_type": "markdown",
   "metadata": {},
   "source": [
    "### 2. EDA and plots"
   ]
  },
  {
   "cell_type": "code",
   "execution_count": 9,
   "metadata": {},
   "outputs": [],
   "source": [
    "london_non_weekend = london[london['is_weekend'] == 0]\n",
    "london_non_weekend = london_non_weekend.drop(['is_holiday','is_weekend'],axis=1)\n",
    "\n",
    "london_is_weekend = london[london['is_weekend'] == 1]\n",
    "london_is_weekend = london_is_weekend.drop(['is_holiday','is_weekend'],axis=1)\n",
    "\n",
    "london_is_holiday = london[london['is_holiday'] == 1]\n",
    "london_is_holiday = london_is_holiday.drop(['is_holiday','is_weekend'],axis=1)\n",
    "\n",
    "london_non_holiday = london[london['is_holiday'] == 0]\n",
    "london_non_holiday = london_non_holiday.drop(['is_holiday','is_weekend'],axis=1)"
   ]
  },
  {
   "cell_type": "code",
   "execution_count": 10,
   "metadata": {},
   "outputs": [
    {
     "data": {
      "image/png": "[encoded data removed]",
      "text/plain": [
       "<Figure size 432x288 with 1 Axes>"
      ]
     },
     "metadata": {
      "needs_background": "light"
     },
     "output_type": "display_data"
    }
   ],
   "source": [
    "def hourly_plot(df,title):\n",
    "    \"\"\"\n",
    "    Function for plotting bike shares by hour.\n",
    "    input: \n",
    "    df - pandas dataframe \n",
    "    title - main title of the plot\n",
    "    \n",
    "    \"\"\"\n",
    "    \n",
    "    df.groupby(by=df.timestamp.dt.hour)['cnt'].mean().plot()\n",
    "    plt.title(title)\n",
    "    plt.xlabel('Hour')\n",
    "    plt.ylabel('count')\n",
    "    plt.legend(['workdays','weekend','holidays'],loc=2, fontsize = 'medium')\n",
    "    \n",
    "hourly_plot(london_non_weekend, 'Bike shares by hour')\n",
    "hourly_plot(london_is_weekend, 'Bike shares by hour')\n",
    "hourly_plot(london_is_holiday, 'Bike shares by hour')"
   ]
  },
  {
   "cell_type": "code",
   "execution_count": null,
   "metadata": {},
   "outputs": [
    {
     "data": {
      "text/plain": [
       "Text(0.5, 1.0, 'Bikes vs season')"
      ]
     },
     "execution_count": 11,
     "metadata": {},
     "output_type": "execute_result"
    }
   ],
   "source": [
    "plt.bar(london_non_weekend[\"season\"], london_non_weekend[\"cnt\"])\n",
    "plt.ylabel(\"cnt\")\n",
    "plt.title(\"Bikes vs season\")\n",
    "\n",
    "#\"season\" - category field meteorological seasons: 0-spring ; 1-summer; 2-fall; 3-winter."
   ]
  },
  {
   "cell_type": "code",
   "execution_count": null,
   "metadata": {},
   "outputs": [],
   "source": [
    "sns.set(style=\"whitegrid\")\n",
    "tips = sns.load_dataset(\"tips\")\n",
    "sns.barplot(x=london_non_weekend[\"season\"], y=london_non_weekend[\"cnt\"], hue=london_non_weekend[\"weather_code\"], data=tips)"
   ]
  },
  {
   "cell_type": "code",
   "execution_count": null,
   "metadata": {},
   "outputs": [],
   "source": [
    "data_corr = london.corr(method='pearson')\n",
    "ax = sns.heatmap(data_corr, vmin=-1, vmax=1, annot=False ,fmt=\".2f\", cmap='RdBu')\n",
    "ax.set_title(\"Correlation Between Features Heatmap style\")"
   ]
  },
  {
   "cell_type": "markdown",
   "metadata": {},
   "source": [
    "### 3. Feature engineering"
   ]
  },
  {
   "cell_type": "code",
   "execution_count": null,
   "metadata": {},
   "outputs": [],
   "source": [
    "def add_features(df): \n",
    "    \n",
    "    df['is_non_workday'] = df['is_holiday'] + df['is_weekend']\n",
    "    df['month'] = df['timestamp'].dt.month\n",
    "    df['year'] = df['timestamp'].dt.year\n",
    "    df['day']=df['timestamp'].dt.dayofweek\n",
    "    df['hour'] = df['timestamp'].dt.hour\n",
    "    \n",
    "    df['is_night'] = 0\n",
    "    df.loc[(df['hour'] < 8) | (df['hour'] > 20), 'is_night'] = 1\n",
    "    \n",
    "    return df"
   ]
  },
  {
   "cell_type": "code",
   "execution_count": null,
   "metadata": {},
   "outputs": [],
   "source": [
    "london=add_features(london)\n",
    "london.head()"
   ]
  },
  {
   "cell_type": "markdown",
   "metadata": {},
   "source": [
    "### By night or day"
   ]
  },
  {
   "cell_type": "code",
   "execution_count": null,
   "metadata": {},
   "outputs": [],
   "source": [
    "# Histogram\n",
    "\n",
    "\n",
    "sns.distplot(london[london['is_night']==1]['count_log'])\n",
    "plt.ylabel('Density')\n",
    "plt.title(\"Bikes by night\")"
   ]
  },
  {
   "cell_type": "code",
   "execution_count": null,
   "metadata": {},
   "outputs": [],
   "source": [
    "\n",
    "sns.distplot(london[london['is_night']==0]['count_log'])\n",
    "plt.ylabel('Density')\n",
    "plt.title(\"Bikes by daytime\")"
   ]
  },
  {
   "cell_type": "markdown",
   "metadata": {},
   "source": [
    "### By Hour"
   ]
  },
  {
   "cell_type": "code",
   "execution_count": null,
   "metadata": {},
   "outputs": [],
   "source": [
    "plt.bar(london[\"hour\"], london[\"cnt\"])\n",
    "plt.ylabel(\"cnt\")\n",
    "plt.xlabel(\"hour\")\n",
    "plt.title(\"Bikes vs hour\")"
   ]
  },
  {
   "cell_type": "code",
   "execution_count": null,
   "metadata": {},
   "outputs": [],
   "source": [
    "### By Month"
   ]
  },
  {
   "cell_type": "code",
   "execution_count": null,
   "metadata": {},
   "outputs": [],
   "source": [
    "plt.bar(london[\"month\"], london[\"cnt\"])\n",
    "plt.xlabel(\"month\")\n",
    "plt.title(\"Bikes vs month\")"
   ]
  },
  {
   "cell_type": "code",
   "execution_count": null,
   "metadata": {},
   "outputs": [],
   "source": [
    "### By weekday"
   ]
  },
  {
   "cell_type": "code",
   "execution_count": null,
   "metadata": {},
   "outputs": [],
   "source": [
    "plt.bar(london[\"day\"], london[\"cnt\"])\n",
    "plt.xlabel(\"weekday\")\n",
    "plt.title(\"Bikes vs weekday\")"
   ]
  },
  {
   "cell_type": "markdown",
   "metadata": {},
   "source": [
    "### 4. Machine Learning"
   ]
  },
  {
   "cell_type": "code",
   "execution_count": null,
   "metadata": {},
   "outputs": [],
   "source": [
    "london_df = london.drop(['timestamp','cnt','is_holiday','is_weekend','year'],axis=1)\n",
    "X = london_df.drop(['count_log'], axis=1)\n",
    "y = london_df['count_log']\n",
    "\n",
    "X.head()"
   ]
  },
  {
   "cell_type": "code",
   "execution_count": null,
   "metadata": {},
   "outputs": [],
   "source": [
    "from sklearn.preprocessing import StandardScaler\n",
    "sc_x= StandardScaler()\n",
    "X = sc_x.fit_transform(X)\n"
   ]
  },
  {
   "cell_type": "code",
   "execution_count": null,
   "metadata": {},
   "outputs": [],
   "source": [
    "# split into test and train sets\n",
    "\n",
    "from sklearn.model_selection import train_test_split\n",
    "X_train, X_test, y_train, y_test = train_test_split(X,y,test_size=0.2, random_state=1)\n"
   ]
  },
  {
   "cell_type": "markdown",
   "metadata": {},
   "source": [
    "### Pick an algorithm"
   ]
  },
  {
   "cell_type": "code",
   "execution_count": null,
   "metadata": {},
   "outputs": [],
   "source": [
    "from sklearn.linear_model import LinearRegression\n",
    "from sklearn.svm import SVR\n",
    "from sklearn.ensemble import BaggingRegressor, RandomForestRegressor, AdaBoostRegressor, GradientBoostingRegressor\n",
    "\n",
    "\n",
    "model_list = [LinearRegression(),\n",
    "              RandomForestRegressor(random_state=42),\n",
    "              GradientBoostingRegressor(random_state=42),\n",
    "              SVR(),\n",
    "              AdaBoostRegressor(random_state=42),\n",
    "              BaggingRegressor(random_state=42)    \n",
    "            ]\n",
    "\n",
    "train_scores = []\n",
    "test_scores = []\n",
    "\n",
    "for model in model_list:\n",
    "    mean_train_score, mean_test_score = get_regression_cv_score(model, X_train, y_train,'r2')\n",
    "    # for values other than 'accuracy' \n",
    "    # https://scikit-learn.org/stable/modules/model_evaluation.html#scoring-parameter\n",
    "    train_scores.append(mean_train_score)\n",
    "    test_scores.append(mean_test_score)\n",
    "    \n",
    "models_score = sorted(list(zip(test_scores, train_scores, model_list)), reverse=True) # reverse based on test scores\n",
    "\n",
    "print(\"-------------------------------------\")\n",
    "for test, train, model in models_score:\n",
    "    print(\"Model: {} \".format(model.__class__.__name__))\n",
    "\n",
    "    print(\"train_score: {:.3f}\".format(train)) \n",
    "\n",
    "    print(\"validation_score: {:.3f}\".format(test)) \n",
    "\n",
    "    print(\"-------------------------------------\")"
   ]
  },
  {
   "cell_type": "markdown",
   "metadata": {},
   "source": [
    "### Tuning parameters for the best models"
   ]
  },
  {
   "cell_type": "markdown",
   "metadata": {},
   "source": [
    "### 1. Random forest regressor"
   ]
  },
  {
   "cell_type": "code",
   "execution_count": null,
   "metadata": {},
   "outputs": [],
   "source": [
    "from sklearn.model_selection import GridSearchCV\n",
    "\n",
    "model = RandomForestRegressor(random_state=42)\n",
    "\n",
    "parameters = {'n_estimators': [50, 100, 200],\n",
    "              'max_depth': [2, 3, 4]}\n",
    "\n",
    "grid1 = GridSearchCV(model, parameters, cv=7, scoring='r2',return_train_score=True)\n",
    "grid1.fit(X_train, y_train)\n",
    "\n",
    "print(grid1.best_params_)\n",
    "best_train = grid1.cv_results_[\"mean_train_score\"][grid1.best_index_]\n",
    "print(\"best mean_train_score: {:.3f}\".format(best_train))\n",
    "        \n",
    "best_test = grid1.cv_results_[\"mean_test_score\"][grid1.best_index_]\n",
    "print(\"best mean_test_score: {:.3f}\".format(best_test))"
   ]
  },
  {
   "cell_type": "markdown",
   "metadata": {},
   "source": [
    "### 2. Gradient Boosted Regressor"
   ]
  },
  {
   "cell_type": "code",
   "execution_count": null,
   "metadata": {},
   "outputs": [],
   "source": [
    "model = GradientBoostingRegressor(max_depth=5, random_state=42)\n",
    "\n",
    "parameters = {'n_estimators': [50, 100, 200],\n",
    "              'learning_rate': [0.001, 0.01, 0.1, 1.0, 10.0]}\n",
    "\n",
    "grid2 = GridSearchCV(model, parameters, cv=7, scoring='r2', return_train_score=True)\n",
    "grid2.fit(X_train, y_train)\n",
    "\n",
    "\n",
    "print(grid2.best_params_)\n",
    "best_train = grid2.cv_results_[\"mean_train_score\"][grid2.best_index_]\n",
    "print(\"best mean_train_score: {:.3f}\".format(best_train))\n",
    "        \n",
    "best_test = grid2.cv_results_[\"mean_test_score\"][grid2.best_index_]\n",
    "print(\"best mean_test_score: {:.3f}\".format(best_test))\n"
   ]
  },
  {
   "cell_type": "markdown",
   "metadata": {},
   "source": [
    "### 4. Final Model Scoring"
   ]
  },
  {
   "cell_type": "markdown",
   "metadata": {},
   "source": [
    "### Gradient Boosted Regression"
   ]
  },
  {
   "cell_type": "code",
   "execution_count": null,
   "metadata": {},
   "outputs": [],
   "source": [
    "from sklearn.pipeline import Pipeline\n",
    "from sklearn.preprocessing import StandardScaler\n",
    "\n",
    "#pipeline = Pipeline([('preprocessing', StandardScaler()), ('regressor', grid2.best_estimator_)]) \n",
    "pipeline = Pipeline([('regressor', grid2.best_estimator_)]) # same result without preprocessing (update!!)\n",
    "\n",
    "# Note 'classifier' or 'regressor' can be named as anything its just the step name. https://scikit-learn.org/stable/modules/compose.html\n",
    "\n",
    "pipeline.fit(X_train, y_train)\n",
    "\n",
    "print(\"Test score: {:.3f}\".format(pipeline.score(X_test, y_test))) # should be same as r2_score() below for test\n",
    "\n"
   ]
  },
  {
   "cell_type": "code",
   "execution_count": null,
   "metadata": {},
   "outputs": [],
   "source": [
    "\n",
    "y_pred=pipeline.predict(X_test)\n",
    "y_pred_train=pipeline.predict(X_train)\n",
    "\n",
    "from sklearn.metrics import r2_score,mean_squared_error,mean_absolute_error\n",
    "\n",
    "mae=mean_absolute_error(y_test, y_pred)\n",
    "mse=mean_squared_error(y_test, y_pred)\n",
    "rmse=np.sqrt(mse)\n",
    "rmse"
   ]
  },
  {
   "cell_type": "code",
   "execution_count": null,
   "metadata": {},
   "outputs": [],
   "source": [
    "from sklearn.metrics import r2_score\n",
    "\n",
    "r2_score=r2_score(y_test, y_pred)\n",
    "r2_score\n"
   ]
  }
 ],
 "metadata": {
  "kernelspec": {
   "display_name": "Python 3",
   "language": "python",
   "name": "python3"
  },
  "language_info": {
   "codemirror_mode": {
    "name": "ipython",
    "version": 3
   },
   "file_extension": ".py",
   "mimetype": "text/x-python",
   "name": "python",
   "nbconvert_exporter": "python",
   "pygments_lexer": "ipython3",
   "version": "3.8.3"
  }
 },
 "nbformat": 4,
 "nbformat_minor": 4
}
